{
 "cells": [
  {
   "cell_type": "code",
   "execution_count": 96,
   "metadata": {},
   "outputs": [],
   "source": [
    "import random\n",
    "def crear_mapa_laberinto(numero_filas, numero_columnas, numero_paredes, numero_espacios):\n",
    "     #Se crea un mapa lleno de paredes\n",
    "        mapa_laberinto = []\n",
    "        \n",
    "        for fila in range(0, numero_filas):\n",
    "            fila_mapa_laberinto = []\n",
    "            for columna in range(0, numero_columnas):\n",
    "                fila_mapa_laberinto.append('#')\n",
    "            mapa_laberinto.append(fila_mapa_laberinto)\n",
    "            \n",
    "    #Se ubica aleatoriamente un punto de inicio y a partir de ese punto se llenan espacios\n",
    "        numero_espacios_generados = 0\n",
    "       \n",
    "    #Se ubica una ficha de manera aleatoria\n",
    "        ficha_fila = random.randrange(numero_filas)\n",
    "        ficha_columnas = random.randrange(numero_columnas)\n",
    "        mapa_laberinto[ficha_fila][ficha_columnas] = '@'\n",
    "        \n",
    "\n",
    "        while numero_espacios_generados < numero_espacios:\n",
    "            movimiento = random.randrange(4)\n",
    "            if movimiento == 0 and ficha_fila > 0:\n",
    "                ficha_fila -= 1\n",
    "            elif movimiento == 1 and ficha_fila < numero_filas - 1:\n",
    "                ficha_fila += 1\n",
    "            elif movimiento == 2 and ficha_columnas > 0:\n",
    "                ficha_columnas -= 1\n",
    "            else:\n",
    "                if ficha_columnas < numero_columnas - 1:\n",
    "                    ficha_columnas += 1\n",
    "                \n",
    "            if mapa_laberinto[ficha_fila][ficha_columnas] == '#':\n",
    "                mapa_laberinto[ficha_fila][ficha_columnas] = ' '\n",
    "                numero_espacios_generados += 1\n",
    "                \n",
    "\n",
    "\n",
    "        \n",
    "                \n",
    "        return mapa_laberinto\n",
    "   "
   ]
  },
  {
   "cell_type": "code",
   "execution_count": 97,
   "metadata": {},
   "outputs": [
    {
     "name": "stdout",
     "output_type": "stream",
     "text": [
      "['#', '#', '#', '#', '#', '#', '#', '#']\n",
      "[' ', ' ', ' ', ' ', ' ', '#', '#', '#']\n",
      "[' ', ' ', ' ', ' ', ' ', ' ', '#', '#']\n",
      "['#', '#', ' ', ' ', '#', ' ', '#', '#']\n",
      "['#', ' ', ' ', ' ', '@', ' ', '#', '#']\n",
      "['#', ' ', ' ', ' ', ' ', ' ', '#', '#']\n",
      "['#', '#', '#', ' ', ' ', ' ', '#', '#']\n"
     ]
    }
   ],
   "source": [
    "numero_filas = int(input('Introduzca el número de filas del laberinto: '))\n",
    "numero_columnas = int(input('Introduzca el número de columnas del laberinto: '))\n",
    "numero_paredes = int(input('Introduzca el número de paredes del laberinto: '))\n",
    "#numero_filas = 7\n",
    "#numero_columnas =8\n",
    "#numero_paredes=30\n",
    "numero_espacios = numero_filas * numero_columnas - numero_paredes\n",
    "laberinto = crear_mapa_laberinto(numero_filas, numero_columnas, numero_paredes, numero_espacios)\n",
    "for fila_mapa_laberinto in laberinto:\n",
    "    print(fila_mapa_laberinto)\n",
    "\n"
   ]
  }
 ],
 "metadata": {
  "kernelspec": {
   "display_name": "Python 3.7.2 32-bit",
   "language": "python",
   "name": "python3"
  },
  "language_info": {
   "codemirror_mode": {
    "name": "ipython",
    "version": 3
   },
   "file_extension": ".py",
   "mimetype": "text/x-python",
   "name": "python",
   "nbconvert_exporter": "python",
   "pygments_lexer": "ipython3",
   "version": "3.7.2"
  },
  "orig_nbformat": 4,
  "vscode": {
   "interpreter": {
    "hash": "73a24923366f2c46a64e45afb376a925e7d73cc3f2d9fa834594b0dbe37e6034"
   }
  }
 },
 "nbformat": 4,
 "nbformat_minor": 2
}
